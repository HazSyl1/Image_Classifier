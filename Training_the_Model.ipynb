{
  "cells": [
    {
      "cell_type": "code",
      "execution_count": null,
      "metadata": {
        "colab": {
          "base_uri": "https://localhost:8080/"
        },
        "id": "2q0Oz8x20k3e",
        "outputId": "3b736d26-a063-48f0-ad1b-b8caaf981854"
      },
      "outputs": [
        {
          "output_type": "stream",
          "name": "stdout",
          "text": [
            "Colab only includes TensorFlow 2.x; %tensorflow_version has no effect.\n"
          ]
        }
      ],
      "source": [
        "%tensorflow_version 2.x\n",
        "import tensorflow as tf\n",
        "from tensorflow.keras import datasets,layers,models\n",
        "import matplotlib.pyplot as plt\n",
        "import numpy as np\n",
        "import pandas as pd"
      ]
    },
    {
      "cell_type": "code",
      "execution_count": null,
      "metadata": {
        "colab": {
          "base_uri": "https://localhost:8080/"
        },
        "id": "YrKAoFjz03qq",
        "outputId": "f98d3e4f-2ea7-4682-de2c-f0b31459e6c2"
      },
      "outputs": [
        {
          "output_type": "stream",
          "name": "stdout",
          "text": [
            "Downloading data from https://www.cs.toronto.edu/~kriz/cifar-10-python.tar.gz\n",
            "170498071/170498071 [==============================] - 2s 0us/step\n"
          ]
        }
      ],
      "source": [
        "(train_images,train_labels),(test_images,test_labels)=datasets.cifar10.load_data()"
      ]
    },
    {
      "cell_type": "code",
      "execution_count": null,
      "metadata": {
        "colab": {
          "base_uri": "https://localhost:8080/"
        },
        "id": "jGAADZxg06h8",
        "outputId": "9efd44a1-d8c2-4d05-fc88-60b4adab0d4c"
      },
      "outputs": [
        {
          "output_type": "execute_result",
          "data": {
            "text/plain": [
              "(50000, 32, 32, 3)"
            ]
          },
          "metadata": {},
          "execution_count": 3
        }
      ],
      "source": [
        "train_images.shape"
      ]
    },
    {
      "cell_type": "code",
      "execution_count": null,
      "metadata": {
        "id": "joFsJX3306k7"
      },
      "outputs": [],
      "source": [
        "train_images , test_images=train_images/255.0 ,test_images/255.0"
      ]
    },
    {
      "cell_type": "code",
      "execution_count": null,
      "metadata": {
        "id": "7G97riiN1XzC"
      },
      "outputs": [],
      "source": [
        "class_names=['airplane','automobile','bird','cat','deer','dog','frog','horse','ship','truck']"
      ]
    },
    {
      "cell_type": "code",
      "execution_count": null,
      "metadata": {
        "colab": {
          "base_uri": "https://localhost:8080/",
          "height": 843
        },
        "id": "Kuf46kpl1gRm",
        "outputId": "df6f1dc3-f576-40f2-bef7-78fcc8bc3f89"
      },
      "outputs": [
        {
          "output_type": "display_data",
          "data": {
            "text/plain": [
              "<Figure size 640x480 with 1 Axes>"
            ],
            "image/png": "[encoded data removed]"
          },
          "metadata": {}
        },
        {
          "output_type": "display_data",
          "data": {
            "text/plain": [
              "<Figure size 640x480 with 1 Axes>"
            ],
            "image/png": "[encoded data removed]"
          },
          "metadata": {}
        }
      ],
      "source": [
        "for i in range(2):\n",
        "  plt.imshow(train_images[i])\n",
        "  plt.show()"
      ]
    },
    {
      "cell_type": "code",
      "execution_count": null,
      "metadata": {
        "colab": {
          "base_uri": "https://localhost:8080/"
        },
        "id": "MLFVAvK61gUT",
        "outputId": "5cbd102d-cce3-438e-aff3-410bf9e9d6e5"
      },
      "outputs": [
        {
          "output_type": "execute_result",
          "data": {
            "text/plain": [
              "numpy.ndarray"
            ]
          },
          "metadata": {},
          "execution_count": 7
        }
      ],
      "source": [
        "type(train_images)"
      ]
    },
    {
      "cell_type": "code",
      "execution_count": null,
      "metadata": {
        "id": "CWCYoKhm1gWp"
      },
      "outputs": [],
      "source": [
        "from keras.layers import Dropout\n",
        "model=models.Sequential()\n",
        "model.add(layers.Conv2D(32,(3,3),activation='relu',input_shape=(32,32,3)))\n",
        "model.add(Dropout(0.2))\n",
        "model.add(layers.MaxPooling2D((2,2)))\n",
        "model.add(layers.Conv2D(32,(3,3),activation='relu'))\n",
        "model.add(layers.MaxPooling2D((2,2)))"
      ]
    },
    {
      "cell_type": "code",
      "execution_count": null,
      "metadata": {
        "colab": {
          "base_uri": "https://localhost:8080/"
        },
        "id": "Qs54fxKp1X7t",
        "outputId": "24e2dcd6-90ff-4ca9-e214-81a7182ce532"
      },
      "outputs": [
        {
          "output_type": "stream",
          "name": "stdout",
          "text": [
            "Model: \"sequential_1\"\n",
            "_________________________________________________________________\n",
            " Layer (type)                Output Shape              Param #   \n",
            "=================================================================\n",
            " conv2d_1 (Conv2D)           (None, 30, 30, 32)        896       \n",
            "                                                                 \n",
            " dropout (Dropout)           (None, 30, 30, 32)        0         \n",
            "                                                                 \n",
            " conv2d_2 (Conv2D)           (None, 28, 28, 32)        9248      \n",
            "                                                                 \n",
            " max_pooling2d (MaxPooling2D  (None, 14, 14, 32)       0         \n",
            " )                                                               \n",
            "                                                                 \n",
            "=================================================================\n",
            "Total params: 10,144\n",
            "Trainable params: 10,144\n",
            "Non-trainable params: 0\n",
            "_________________________________________________________________\n"
          ]
        }
      ],
      "source": [
        "\n",
        "model.summary()"
      ]
    },
    {
      "cell_type": "code",
      "execution_count": null,
      "metadata": {
        "id": "y2-HQ_sL06m3"
      },
      "outputs": [],
      "source": [
        "model.add(layers.Flatten())\n",
        "model.add(layers.Dense(512,activation='relu'))\n",
        "model.add(Dropout(0.5))\n",
        "model.add(layers.Dense(10,activation='softmax'))\n"
      ]
    },
    {
      "cell_type": "code",
      "execution_count": null,
      "metadata": {
        "colab": {
          "base_uri": "https://localhost:8080/"
        },
        "id": "ySarx9gX4b3N",
        "outputId": "58691918-77a5-488a-dd83-dc226b1569e5"
      },
      "outputs": [
        {
          "output_type": "stream",
          "name": "stdout",
          "text": [
            "Model: \"sequential_1\"\n",
            "_________________________________________________________________\n",
            " Layer (type)                Output Shape              Param #   \n",
            "=================================================================\n",
            " conv2d_1 (Conv2D)           (None, 30, 30, 32)        896       \n",
            "                                                                 \n",
            " dropout (Dropout)           (None, 30, 30, 32)        0         \n",
            "                                                                 \n",
            " conv2d_2 (Conv2D)           (None, 28, 28, 32)        9248      \n",
            "                                                                 \n",
            " max_pooling2d (MaxPooling2D  (None, 14, 14, 32)       0         \n",
            " )                                                               \n",
            "                                                                 \n",
            " flatten_1 (Flatten)         (None, 6272)              0         \n",
            "                                                                 \n",
            " dense_1 (Dense)             (None, 512)               3211776   \n",
            "                                                                 \n",
            " flatten_2 (Flatten)         (None, 512)               0         \n",
            "                                                                 \n",
            " dense_2 (Dense)             (None, 512)               262656    \n",
            "                                                                 \n",
            " flatten_3 (Flatten)         (None, 512)               0         \n",
            "                                                                 \n",
            " dense_3 (Dense)             (None, 512)               262656    \n",
            "                                                                 \n",
            " dropout_1 (Dropout)         (None, 512)               0         \n",
            "                                                                 \n",
            " dense_4 (Dense)             (None, 10)                5130      \n",
            "                                                                 \n",
            "=================================================================\n",
            "Total params: 3,752,362\n",
            "Trainable params: 3,752,362\n",
            "Non-trainable params: 0\n",
            "_________________________________________________________________\n"
          ]
        }
      ],
      "source": [
        "model.summary()"
      ]
    },
    {
      "cell_type": "code",
      "execution_count": null,
      "metadata": {
        "id": "baZrmZXV4ek_",
        "colab": {
          "base_uri": "https://localhost:8080/"
        },
        "outputId": "9204c482-af6b-48e3-f16a-1df8dcd1e639"
      },
      "outputs": [
        {
          "output_type": "stream",
          "name": "stderr",
          "text": [
            "/usr/local/lib/python3.10/dist-packages/keras/optimizers/legacy/gradient_descent.py:114: UserWarning: The `lr` argument is deprecated, use `learning_rate` instead.\n",
            "  super().__init__(name, **kwargs)\n"
          ]
        }
      ],
      "source": [
        "from keras.optimizers import SGD\n",
        "sgd=SGD(lr=0.01,momentum=0.9,decay=(0.01/25))\n",
        "model.compile(optimizer='sgd',loss=tf.keras.losses.SparseCategoricalCrossentropy(from_logits=True),metrics=['accuracy'])"
      ]
    },
    {
      "cell_type": "code",
      "execution_count": null,
      "metadata": {
        "colab": {
          "base_uri": "https://localhost:8080/"
        },
        "id": "_qtPzkLR4b51",
        "outputId": "a0d30a4f-0044-4c9e-b251-94bcd52c0bd7"
      },
      "outputs": [
        {
          "output_type": "stream",
          "name": "stdout",
          "text": [
            "Epoch 1/10\n"
          ]
        },
        {
          "output_type": "stream",
          "name": "stderr",
          "text": [
            "/usr/local/lib/python3.10/dist-packages/keras/backend.py:5612: UserWarning: \"`sparse_categorical_crossentropy` received `from_logits=True`, but the `output` argument was produced by a Softmax activation and thus does not represent logits. Was this intended?\n",
            "  output, from_logits = _get_logits(\n"
          ]
        },
        {
          "output_type": "stream",
          "name": "stdout",
          "text": [
            "1563/1563 [==============================] - 236s 150ms/step - loss: 2.0151 - accuracy: 0.2658 - val_loss: 1.7543 - val_accuracy: 0.3823\n",
            "Epoch 2/10\n",
            "1563/1563 [==============================] - 229s 146ms/step - loss: 1.6872 - accuracy: 0.3964 - val_loss: 1.6169 - val_accuracy: 0.4255\n",
            "Epoch 3/10\n",
            "1563/1563 [==============================] - 236s 151ms/step - loss: 1.5379 - accuracy: 0.4487 - val_loss: 1.4530 - val_accuracy: 0.4856\n",
            "Epoch 4/10\n",
            "1563/1563 [==============================] - 235s 151ms/step - loss: 1.4306 - accuracy: 0.4870 - val_loss: 1.3706 - val_accuracy: 0.5183\n",
            "Epoch 5/10\n",
            "1563/1563 [==============================] - 230s 147ms/step - loss: 1.3435 - accuracy: 0.5180 - val_loss: 1.2874 - val_accuracy: 0.5430\n",
            "Epoch 6/10\n",
            "1563/1563 [==============================] - 236s 151ms/step - loss: 1.2618 - accuracy: 0.5501 - val_loss: 1.2197 - val_accuracy: 0.5715\n",
            "Epoch 7/10\n",
            "1563/1563 [==============================] - 233s 149ms/step - loss: 1.1841 - accuracy: 0.5776 - val_loss: 1.1815 - val_accuracy: 0.5878\n",
            "Epoch 8/10\n",
            "1563/1563 [==============================] - 231s 148ms/step - loss: 1.1111 - accuracy: 0.6051 - val_loss: 1.1446 - val_accuracy: 0.5977\n",
            "Epoch 9/10\n",
            "1563/1563 [==============================] - 235s 150ms/step - loss: 1.0378 - accuracy: 0.6318 - val_loss: 1.1743 - val_accuracy: 0.5904\n",
            "Epoch 10/10\n",
            "1563/1563 [==============================] - 231s 148ms/step - loss: 0.9679 - accuracy: 0.6599 - val_loss: 1.0514 - val_accuracy: 0.6313\n"
          ]
        }
      ],
      "source": [
        "his=model.fit(train_images,train_labels,epochs=10,validation_data=(test_images,test_labels),batch_size=32)"
      ]
    },
    {
      "cell_type": "code",
      "execution_count": null,
      "metadata": {
        "colab": {
          "base_uri": "https://localhost:8080/"
        },
        "id": "npOGLZNe4b8m",
        "outputId": "1bbd3d58-ce91-449a-a4a4-96ed4e5225be"
      },
      "outputs": [
        {
          "output_type": "stream",
          "name": "stdout",
          "text": [
            "313/313 - 8s - loss: 1.0514 - accuracy: 0.6313 - 8s/epoch - 26ms/step\n",
            "Test Acc:0.6312999725341797\n"
          ]
        }
      ],
      "source": [
        "test_loss,test_acc=model.evaluate(test_images,test_labels,verbose=2)\n",
        "print(\"Test Acc:{}\".format(test_acc)) "
      ]
    },
    {
      "cell_type": "code",
      "source": [],
      "metadata": {
        "id": "_l4IY3IMQ6Ty"
      },
      "execution_count": null,
      "outputs": []
    },
    {
      "cell_type": "code",
      "execution_count": null,
      "metadata": {
        "id": "TmXDl7Uy06pC"
      },
      "outputs": [],
      "source": [
        "mm.save(\"CIFAR_10_epochs_10.h5\")"
      ]
    },
    {
      "cell_type": "code",
      "source": [],
      "metadata": {
        "id": "78HoBRNHBOSy"
      },
      "execution_count": null,
      "outputs": []
    },
    {
      "cell_type": "code",
      "source": [
        "test_loss,test_acc=mm.evaluate(test_images,test_labels,verbose=2)\n",
        "print(\"Test Acc:{}\".format(test_acc)) "
      ],
      "metadata": {
        "colab": {
          "base_uri": "https://localhost:8080/"
        },
        "id": "WjtOOqlg4bwY",
        "outputId": "3d175940-878a-4dfc-e9e4-2aa08250480b"
      },
      "execution_count": null,
      "outputs": [
        {
          "output_type": "stream",
          "name": "stdout",
          "text": [
            "313/313 - 4s - loss: 0.9922 - accuracy: 0.7110 - 4s/epoch - 14ms/step\n",
            "Test Acc:0.7110000252723694\n"
          ]
        }
      ]
    },
    {
      "cell_type": "code",
      "source": [],
      "metadata": {
        "id": "z5goHM-N4bzm"
      },
      "execution_count": null,
      "outputs": []
    },
    {
      "cell_type": "code",
      "source": [],
      "metadata": {
        "id": "wBenpebl4SYi"
      },
      "execution_count": null,
      "outputs": []
    },
    {
      "cell_type": "code",
      "source": [],
      "metadata": {
        "id": "YwB4v5IR4SdB"
      },
      "execution_count": null,
      "outputs": []
    },
    {
      "cell_type": "code",
      "execution_count": null,
      "metadata": {
        "colab": {
          "base_uri": "https://localhost:8080/"
        },
        "id": "KSGI8KL16Fdx",
        "outputId": "0bcd4151-291d-4860-fc4f-723f6633a31f"
      },
      "outputs": [
        {
          "output_type": "stream",
          "name": "stdout",
          "text": [
            "1/1 [==============================] - 0s 32ms/step\n"
          ]
        }
      ],
      "source": [
        "from PIL import Image\n",
        "import numpy as np\n",
        "im=Image.open(\"/content/girl-1894125_960_720.jpg\")\n",
        "\n",
        "im=im.resize((32,32))\n",
        "im=np.expand_dims(im,axis=0)\n",
        "im=np.array(im)\n",
        "pred=mm.predict([im])[0]\n"
      ]
    },
    {
      "cell_type": "code",
      "execution_count": null,
      "metadata": {
        "colab": {
          "base_uri": "https://localhost:8080/"
        },
        "id": "ZPYNivDB6FiL",
        "outputId": "924a2964-b362-481b-ee4c-b4c2cf1ef5ae"
      },
      "outputs": [
        {
          "output_type": "execute_result",
          "data": {
            "text/plain": [
              "array([ -423.52768,  -737.89166,  -142.14401,   203.57983,  -270.11472,\n",
              "         466.83664, -1154.202  ,   530.56226,  -177.53532,   450.98706],\n",
              "      dtype=float32)"
            ]
          },
          "metadata": {},
          "execution_count": 100
        }
      ],
      "source": [
        "pred"
      ]
    },
    {
      "cell_type": "code",
      "execution_count": null,
      "metadata": {
        "colab": {
          "base_uri": "https://localhost:8080/"
        },
        "id": "dPZL8Pw79fWS",
        "outputId": "7a04af91-8e87-4fe4-8d45-4095dd48b1e7"
      },
      "outputs": [
        {
          "output_type": "execute_result",
          "data": {
            "text/plain": [
              "530.56226"
            ]
          },
          "metadata": {},
          "execution_count": 101
        }
      ],
      "source": [
        "np.amax(pred)"
      ]
    },
    {
      "cell_type": "code",
      "execution_count": null,
      "metadata": {
        "id": "1JXEcey7-WHk"
      },
      "outputs": [],
      "source": [
        "result=np.argmax(pred)"
      ]
    },
    {
      "cell_type": "code",
      "execution_count": null,
      "metadata": {
        "colab": {
          "base_uri": "https://localhost:8080/"
        },
        "id": "RvAwX3JM-jR_",
        "outputId": "a8e134f9-cfb8-4580-9445-0da091f0aeef"
      },
      "outputs": [
        {
          "output_type": "stream",
          "name": "stdout",
          "text": [
            "Predicted Label: 7 Name: horse\n"
          ]
        }
      ],
      "source": [
        "print(\"Predicted Label:\",result,\"Name:\",class_names[result])"
      ]
    },
    {
      "cell_type": "code",
      "source": [
        "test_loss,test_acc=mm.evaluate(test_images,test_labels,verbose=2)\n",
        "print(\"Test Acc:{}\".format(test_acc)) "
      ],
      "metadata": {
        "colab": {
          "base_uri": "https://localhost:8080/"
        },
        "id": "B22PZVgjC5fp",
        "outputId": "2f31acf1-1235-4498-fd5d-fc268117c49a"
      },
      "execution_count": null,
      "outputs": [
        {
          "output_type": "stream",
          "name": "stdout",
          "text": [
            "313/313 - 4s - loss: 0.9922 - accuracy: 0.7110 - 4s/epoch - 14ms/step\n",
            "Test Acc:0.7110000252723694\n"
          ]
        }
      ]
    },
    {
      "cell_type": "code",
      "source": [],
      "metadata": {
        "id": "8lwPD92TLfB5"
      },
      "execution_count": null,
      "outputs": []
    },
    {
      "cell_type": "code",
      "source": [
        "mm.save(\"model1_cifar_10epoch.h5\")"
      ],
      "metadata": {
        "id": "zr8p5pMALfOC"
      },
      "execution_count": null,
      "outputs": []
    },
    {
      "cell_type": "code",
      "source": [],
      "metadata": {
        "id": "Im7oVcFKC5iz"
      },
      "execution_count": null,
      "outputs": []
    }
  ],
  "metadata": {
    "colab": {
      "provenance": []
    },
    "kernelspec": {
      "display_name": "Python 3",
      "name": "python3"
    },
    "language_info": {
      "name": "python"
    }
  },
  "nbformat": 4,
  "nbformat_minor": 0
}